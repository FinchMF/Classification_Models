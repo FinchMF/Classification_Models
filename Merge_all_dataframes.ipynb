{
 "cells": [
  {
   "cell_type": "markdown",
   "metadata": {},
   "source": [
    "## Notebook to Merge All CSV into one Dataframe"
   ]
  },
  {
   "cell_type": "code",
   "execution_count": 1,
   "metadata": {},
   "outputs": [],
   "source": [
    "import pandas as pd"
   ]
  },
  {
   "cell_type": "code",
   "execution_count": 3,
   "metadata": {},
   "outputs": [
    {
     "name": "stdout",
     "output_type": "stream",
     "text": [
      "50s Hits_CSV           electronic_CSV         rockabilly_CSV\r\n",
      "Classical_CSV          french_CSV             ska_CSV\r\n",
      "detroit_techo_CSV      hip hop_CSV            sleep_CSV\r\n",
      "disco_CSV              industrial pop_CSV     spanish_CSV\r\n",
      "electro indie pop_CSV  post rock_CSV\r\n"
     ]
    }
   ],
   "source": [
    "ls genre_csv"
   ]
  },
  {
   "cell_type": "code",
   "execution_count": 14,
   "metadata": {},
   "outputs": [
    {
     "name": "stderr",
     "output_type": "stream",
     "text": [
      "/Users/Finch/anaconda3/lib/python3.7/site-packages/ipykernel_launcher.py:30: FutureWarning: Sorting because non-concatenation axis is not aligned. A future version\n",
      "of pandas will change to not sort by default.\n",
      "\n",
      "To accept the future behavior, pass 'sort=False'.\n",
      "\n",
      "To retain the current behavior and silence the warning, pass 'sort=True'.\n",
      "\n"
     ]
    }
   ],
   "source": [
    "df_50s = pd.read_csv('./genre_csv/50s Hits_CSV')\n",
    "df_classical = pd.read_csv('./genre_csv/classical_CSV')\n",
    "df_detroit_techo = pd.read_csv('./genre_csv/detroit_techo_CSV')\n",
    "df_disco = pd.read_csv('./genre_csv/disco_CSV')\n",
    "df_electro_indie_pop = pd.read_csv('./genre_csv/electro indie pop_CSV')\n",
    "df_electronic = pd.read_csv('./genre_csv/electronic_CSV')\n",
    "df_french = pd.read_csv('./genre_csv/french_CSV')\n",
    "df_hip_hop = pd.read_csv('./genre_csv/hip hop_CSV')\n",
    "df_industrial = pd.read_csv('./genre_csv/industrial pop_csv')\n",
    "df_post_rock = pd.read_csv('./genre_csv/post rock_CSV')\n",
    "df_rockabilly = pd.read_csv('./genre_csv/rockabilly_CSV')\n",
    "df_ska = pd.read_csv('./genre_csv/ska_CSV')\n",
    "df_sleep = pd.read_csv('./genre_csv/sleep_CSV')\n",
    "df_spanish = pd.read_csv('./genre_csv/spanish_CSV')\n",
    "\n",
    "all_genre_df = pd.concat([df_50s,\n",
    "                          df_classical,\n",
    "                          df_detroit_techo,\n",
    "                          df_disco,\n",
    "                          df_electro_indie_pop,\n",
    "                          df_electronic,\n",
    "                          df_french,\n",
    "                          df_hip_hop,\n",
    "                          df_industrial,\n",
    "                          df_post_rock,\n",
    "                          df_rockabilly,\n",
    "                          df_ska,\n",
    "                          df_sleep,\n",
    "                          df_spanish\n",
    "                          ], axis = 0) "
   ]
  },
  {
   "cell_type": "code",
   "execution_count": 15,
   "metadata": {},
   "outputs": [],
   "source": [
    "all_genre_df.fillna(0, inplace=True)"
   ]
  },
  {
   "cell_type": "code",
   "execution_count": 20,
   "metadata": {},
   "outputs": [
    {
     "data": {
      "text/plain": [
       "0     1\n",
       "1     1\n",
       "2     1\n",
       "3     1\n",
       "4     1\n",
       "     ..\n",
       "55    1\n",
       "56    0\n",
       "57    0\n",
       "58    0\n",
       "59    1\n",
       "Name: mode, Length: 1186, dtype: int64"
      ]
     },
     "execution_count": 20,
     "metadata": {},
     "output_type": "execute_result"
    }
   ],
   "source": [
    "all_genre_df['mode']"
   ]
  },
  {
   "cell_type": "code",
   "execution_count": 21,
   "metadata": {},
   "outputs": [],
   "source": [
    "# further cleaning by making mode categorical\n",
    "encoded_mode = pd.get_dummies(all_genre_df['mode'])\n",
    "all_genre_df = all_genre_df.drop(['mode'], axis = 1)\n",
    "all_genre_df = pd.concat([all_genre_df,\n",
    "                          encoded_mode],\n",
    "                          axis = 1)"
   ]
  },
  {
   "cell_type": "code",
   "execution_count": 25,
   "metadata": {},
   "outputs": [],
   "source": [
    "all_genre_df = all_genre_df.rename(columns={0: 'Minor', 1: 'Major'})"
   ]
  },
  {
   "cell_type": "code",
   "execution_count": 27,
   "metadata": {},
   "outputs": [
    {
     "data": {
      "text/html": [
       "<div>\n",
       "<style scoped>\n",
       "    .dataframe tbody tr th:only-of-type {\n",
       "        vertical-align: middle;\n",
       "    }\n",
       "\n",
       "    .dataframe tbody tr th {\n",
       "        vertical-align: top;\n",
       "    }\n",
       "\n",
       "    .dataframe thead th {\n",
       "        text-align: right;\n",
       "    }\n",
       "</style>\n",
       "<table border=\"1\" class=\"dataframe\">\n",
       "  <thead>\n",
       "    <tr style=\"text-align: right;\">\n",
       "      <th></th>\n",
       "      <th>1</th>\n",
       "      <th>3</th>\n",
       "      <th>4</th>\n",
       "      <th>5</th>\n",
       "      <th>A</th>\n",
       "      <th>A#/Bb</th>\n",
       "      <th>B</th>\n",
       "      <th>C</th>\n",
       "      <th>C#/Db</th>\n",
       "      <th>Color_['#', '0']</th>\n",
       "      <th>...</th>\n",
       "      <th>danceability</th>\n",
       "      <th>energy</th>\n",
       "      <th>instrumentalness</th>\n",
       "      <th>key</th>\n",
       "      <th>liveness</th>\n",
       "      <th>loudness</th>\n",
       "      <th>speechiness</th>\n",
       "      <th>valence</th>\n",
       "      <th>Minor</th>\n",
       "      <th>Major</th>\n",
       "    </tr>\n",
       "  </thead>\n",
       "  <tbody>\n",
       "    <tr>\n",
       "      <th>0</th>\n",
       "      <td>0.0</td>\n",
       "      <td>0.0</td>\n",
       "      <td>1</td>\n",
       "      <td>0.0</td>\n",
       "      <td>1</td>\n",
       "      <td>0</td>\n",
       "      <td>0</td>\n",
       "      <td>0</td>\n",
       "      <td>0</td>\n",
       "      <td>0.0</td>\n",
       "      <td>...</td>\n",
       "      <td>0.558</td>\n",
       "      <td>0.556</td>\n",
       "      <td>0.000000</td>\n",
       "      <td>9</td>\n",
       "      <td>0.0869</td>\n",
       "      <td>-8.358</td>\n",
       "      <td>0.0564</td>\n",
       "      <td>0.905</td>\n",
       "      <td>0</td>\n",
       "      <td>1</td>\n",
       "    </tr>\n",
       "    <tr>\n",
       "      <th>1</th>\n",
       "      <td>0.0</td>\n",
       "      <td>0.0</td>\n",
       "      <td>1</td>\n",
       "      <td>0.0</td>\n",
       "      <td>0</td>\n",
       "      <td>1</td>\n",
       "      <td>0</td>\n",
       "      <td>0</td>\n",
       "      <td>0</td>\n",
       "      <td>0.0</td>\n",
       "      <td>...</td>\n",
       "      <td>0.538</td>\n",
       "      <td>0.551</td>\n",
       "      <td>0.000000</td>\n",
       "      <td>10</td>\n",
       "      <td>0.0515</td>\n",
       "      <td>-8.128</td>\n",
       "      <td>0.0802</td>\n",
       "      <td>0.963</td>\n",
       "      <td>0</td>\n",
       "      <td>1</td>\n",
       "    </tr>\n",
       "    <tr>\n",
       "      <th>2</th>\n",
       "      <td>0.0</td>\n",
       "      <td>0.0</td>\n",
       "      <td>1</td>\n",
       "      <td>0.0</td>\n",
       "      <td>0</td>\n",
       "      <td>0</td>\n",
       "      <td>0</td>\n",
       "      <td>0</td>\n",
       "      <td>0</td>\n",
       "      <td>0.0</td>\n",
       "      <td>...</td>\n",
       "      <td>0.505</td>\n",
       "      <td>0.192</td>\n",
       "      <td>0.000000</td>\n",
       "      <td>8</td>\n",
       "      <td>0.1060</td>\n",
       "      <td>-12.267</td>\n",
       "      <td>0.0283</td>\n",
       "      <td>0.485</td>\n",
       "      <td>0</td>\n",
       "      <td>1</td>\n",
       "    </tr>\n",
       "    <tr>\n",
       "      <th>3</th>\n",
       "      <td>0.0</td>\n",
       "      <td>0.0</td>\n",
       "      <td>1</td>\n",
       "      <td>0.0</td>\n",
       "      <td>1</td>\n",
       "      <td>0</td>\n",
       "      <td>0</td>\n",
       "      <td>0</td>\n",
       "      <td>0</td>\n",
       "      <td>1.0</td>\n",
       "      <td>...</td>\n",
       "      <td>0.506</td>\n",
       "      <td>0.686</td>\n",
       "      <td>0.000000</td>\n",
       "      <td>9</td>\n",
       "      <td>0.0613</td>\n",
       "      <td>-6.949</td>\n",
       "      <td>0.1180</td>\n",
       "      <td>0.834</td>\n",
       "      <td>0</td>\n",
       "      <td>1</td>\n",
       "    </tr>\n",
       "    <tr>\n",
       "      <th>4</th>\n",
       "      <td>0.0</td>\n",
       "      <td>0.0</td>\n",
       "      <td>1</td>\n",
       "      <td>0.0</td>\n",
       "      <td>1</td>\n",
       "      <td>0</td>\n",
       "      <td>0</td>\n",
       "      <td>0</td>\n",
       "      <td>0</td>\n",
       "      <td>0.0</td>\n",
       "      <td>...</td>\n",
       "      <td>0.554</td>\n",
       "      <td>0.677</td>\n",
       "      <td>0.000002</td>\n",
       "      <td>9</td>\n",
       "      <td>0.0840</td>\n",
       "      <td>-7.728</td>\n",
       "      <td>0.0711</td>\n",
       "      <td>0.964</td>\n",
       "      <td>0</td>\n",
       "      <td>1</td>\n",
       "    </tr>\n",
       "  </tbody>\n",
       "</table>\n",
       "<p>5 rows × 66 columns</p>\n",
       "</div>"
      ],
      "text/plain": [
       "     1    3  4    5  A  A#/Bb  B  C  C#/Db  Color_['#', '0']  ...  \\\n",
       "0  0.0  0.0  1  0.0  1      0  0  0      0               0.0  ...   \n",
       "1  0.0  0.0  1  0.0  0      1  0  0      0               0.0  ...   \n",
       "2  0.0  0.0  1  0.0  0      0  0  0      0               0.0  ...   \n",
       "3  0.0  0.0  1  0.0  1      0  0  0      0               1.0  ...   \n",
       "4  0.0  0.0  1  0.0  1      0  0  0      0               0.0  ...   \n",
       "\n",
       "   danceability  energy  instrumentalness  key  liveness  loudness  \\\n",
       "0         0.558   0.556          0.000000    9    0.0869    -8.358   \n",
       "1         0.538   0.551          0.000000   10    0.0515    -8.128   \n",
       "2         0.505   0.192          0.000000    8    0.1060   -12.267   \n",
       "3         0.506   0.686          0.000000    9    0.0613    -6.949   \n",
       "4         0.554   0.677          0.000002    9    0.0840    -7.728   \n",
       "\n",
       "   speechiness  valence  Minor  Major  \n",
       "0       0.0564    0.905      0      1  \n",
       "1       0.0802    0.963      0      1  \n",
       "2       0.0283    0.485      0      1  \n",
       "3       0.1180    0.834      0      1  \n",
       "4       0.0711    0.964      0      1  \n",
       "\n",
       "[5 rows x 66 columns]"
      ]
     },
     "execution_count": 27,
     "metadata": {},
     "output_type": "execute_result"
    }
   ],
   "source": [
    "all_genre_df.head()"
   ]
  },
  {
   "cell_type": "code",
   "execution_count": 28,
   "metadata": {},
   "outputs": [],
   "source": [
    "all_genre_df.to_csv('./genre_csv/all_genre_CSV')"
   ]
  }
 ],
 "metadata": {
  "kernelspec": {
   "display_name": "Python 3",
   "language": "python",
   "name": "python3"
  },
  "language_info": {
   "codemirror_mode": {
    "name": "ipython",
    "version": 3
   },
   "file_extension": ".py",
   "mimetype": "text/x-python",
   "name": "python",
   "nbconvert_exporter": "python",
   "pygments_lexer": "ipython3",
   "version": "3.7.3"
  }
 },
 "nbformat": 4,
 "nbformat_minor": 2
}
