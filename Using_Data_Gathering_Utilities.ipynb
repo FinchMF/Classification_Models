{
 "cells": [
  {
   "cell_type": "markdown",
   "metadata": {},
   "source": [
    "## Practice Calling Data_Gathering_Functions"
   ]
  },
  {
   "cell_type": "code",
   "execution_count": 7,
   "metadata": {},
   "outputs": [],
   "source": [
    "# import the data_gathering_function module to have access to all cleaning and gathering materials\n",
    "from data_gathering_function import *"
   ]
  },
  {
   "cell_type": "code",
   "execution_count": 8,
   "metadata": {},
   "outputs": [
    {
     "name": "stdout",
     "output_type": "stream",
     "text": [
      "Full Token Data\n",
      "{'access_token': 'BQCBsrXERhJwVhyQHsmt5eVDw2h3z7AAFcGcta0N35tMEWGD_709E49HMfuBFuBKhO0roxScz1jXk5glcSY', 'token_type': 'Bearer', 'expires_in': 3600, 'scope': ''}\n",
      "\n",
      "\n",
      "token needed: BQCBsrXERhJwVhyQHsmt5eVDw2h3z7AAFcGcta0N35tMEWGD_709E49HMfuBFuBKhO0roxScz1jXk5glcSY\n"
     ]
    },
    {
     "data": {
      "text/plain": [
       "{'access_token': 'BQCBsrXERhJwVhyQHsmt5eVDw2h3z7AAFcGcta0N35tMEWGD_709E49HMfuBFuBKhO0roxScz1jXk5glcSY',\n",
       " 'token_type': 'Bearer',\n",
       " 'expires_in': 3600,\n",
       " 'scope': ''}"
      ]
     },
     "execution_count": 8,
     "metadata": {},
     "output_type": "execute_result"
    }
   ],
   "source": [
    "# spotify's api access token needs to be refreshed every hour. \n",
    "# by executing this cell, the access token is refreshed\n",
    "get_tokens()"
   ]
  },
  {
   "cell_type": "code",
   "execution_count": 5,
   "metadata": {},
   "outputs": [
    {
     "data": {
      "text/plain": [
       "{'hip hop playlist': '7Mr3wEdKgaiAP4Cm2a6vda',\n",
       " 'post rock playlist': '4MRGjKqlWuJZJ8XHOGcqkR',\n",
       " 'electronic playlist': '37i9dQZF1DX4dyzvuaRJ0n',\n",
       " 'detroit_techo playlist': '1o1HVRGIxwCcdSnNnZ69IC',\n",
       " 'classical playlist': '37i9dQZF1DWWEJlAGA9gs0',\n",
       " 'disco playlist': '0TCtFMz5lY6jTfusk66ZFj',\n",
       " 'electro indie pop playlist': '3kTtdRE1CtRyRKdicfOGAR',\n",
       " 'industrial pop playlist': '30BUPgw52SWNm2ZWZZc86A',\n",
       " 'french playlist': '6Ph1K0QWCcEwYRr0VhVt6C',\n",
       " 'spanish playlist': '5khoF3ksobwfVwOazDqpqI',\n",
       " 'ska playlist': '6mRRGF4klfgUzbD2ZKOCq0',\n",
       " 'sleep playlist': '37i9dQZF1DWZd79rJ6a7lp',\n",
       " 'rockabilly playlist': '37i9dQZF1DX0xLQsW8b5Zx',\n",
       " '50s Hits playlist': '2SwjQPegrTTYaOsWQrwhMe'}"
      ]
     },
     "execution_count": 5,
     "metadata": {},
     "output_type": "execute_result"
    }
   ],
   "source": [
    "# dictionary of genre and respective playlist ID\n",
    "genre_dict"
   ]
  },
  {
   "cell_type": "code",
   "execution_count": 9,
   "metadata": {},
   "outputs": [
    {
     "data": {
      "text/html": [
       "<div>\n",
       "<style scoped>\n",
       "    .dataframe tbody tr th:only-of-type {\n",
       "        vertical-align: middle;\n",
       "    }\n",
       "\n",
       "    .dataframe tbody tr th {\n",
       "        vertical-align: top;\n",
       "    }\n",
       "\n",
       "    .dataframe thead th {\n",
       "        text-align: right;\n",
       "    }\n",
       "</style>\n",
       "<table border=\"1\" class=\"dataframe\">\n",
       "  <thead>\n",
       "    <tr style=\"text-align: right;\">\n",
       "      <th></th>\n",
       "      <th>danceability</th>\n",
       "      <th>energy</th>\n",
       "      <th>key</th>\n",
       "      <th>loudness</th>\n",
       "      <th>mode</th>\n",
       "      <th>speechiness</th>\n",
       "      <th>acousticness</th>\n",
       "      <th>instrumentalness</th>\n",
       "      <th>liveness</th>\n",
       "      <th>valence</th>\n",
       "      <th>tempo</th>\n",
       "      <th>type</th>\n",
       "      <th>id</th>\n",
       "      <th>uri</th>\n",
       "      <th>track_href</th>\n",
       "      <th>analysis_url</th>\n",
       "      <th>duration_ms</th>\n",
       "      <th>time_signature</th>\n",
       "    </tr>\n",
       "  </thead>\n",
       "  <tbody>\n",
       "    <tr>\n",
       "      <th>0</th>\n",
       "      <td>0.2210</td>\n",
       "      <td>0.1260</td>\n",
       "      <td>0</td>\n",
       "      <td>-25.427</td>\n",
       "      <td>1</td>\n",
       "      <td>0.0447</td>\n",
       "      <td>0.989</td>\n",
       "      <td>0.897</td>\n",
       "      <td>0.1020</td>\n",
       "      <td>0.2160</td>\n",
       "      <td>133.630</td>\n",
       "      <td>audio_features</td>\n",
       "      <td>4SFBV7SRNG2e2kyL1F6kjU</td>\n",
       "      <td>spotify:track:4SFBV7SRNG2e2kyL1F6kjU</td>\n",
       "      <td>https://api.spotify.com/v1/tracks/4SFBV7SRNG2e...</td>\n",
       "      <td>https://api.spotify.com/v1/audio-analysis/4SFB...</td>\n",
       "      <td>139307</td>\n",
       "      <td>4</td>\n",
       "    </tr>\n",
       "    <tr>\n",
       "      <th>1</th>\n",
       "      <td>0.0811</td>\n",
       "      <td>0.0122</td>\n",
       "      <td>4</td>\n",
       "      <td>-32.654</td>\n",
       "      <td>0</td>\n",
       "      <td>0.0511</td>\n",
       "      <td>0.902</td>\n",
       "      <td>0.308</td>\n",
       "      <td>0.0648</td>\n",
       "      <td>0.0384</td>\n",
       "      <td>74.554</td>\n",
       "      <td>audio_features</td>\n",
       "      <td>2kAgCRZPG3YQR2VMqRvLmb</td>\n",
       "      <td>spotify:track:2kAgCRZPG3YQR2VMqRvLmb</td>\n",
       "      <td>https://api.spotify.com/v1/tracks/2kAgCRZPG3YQ...</td>\n",
       "      <td>https://api.spotify.com/v1/audio-analysis/2kAg...</td>\n",
       "      <td>935360</td>\n",
       "      <td>4</td>\n",
       "    </tr>\n",
       "    <tr>\n",
       "      <th>2</th>\n",
       "      <td>0.2040</td>\n",
       "      <td>0.0331</td>\n",
       "      <td>2</td>\n",
       "      <td>-24.044</td>\n",
       "      <td>0</td>\n",
       "      <td>0.0487</td>\n",
       "      <td>0.927</td>\n",
       "      <td>0.825</td>\n",
       "      <td>0.0954</td>\n",
       "      <td>0.0547</td>\n",
       "      <td>116.200</td>\n",
       "      <td>audio_features</td>\n",
       "      <td>1upQiytDIEZfl9ItruoXuC</td>\n",
       "      <td>spotify:track:1upQiytDIEZfl9ItruoXuC</td>\n",
       "      <td>https://api.spotify.com/v1/tracks/1upQiytDIEZf...</td>\n",
       "      <td>https://api.spotify.com/v1/audio-analysis/1upQ...</td>\n",
       "      <td>207267</td>\n",
       "      <td>3</td>\n",
       "    </tr>\n",
       "    <tr>\n",
       "      <th>3</th>\n",
       "      <td>0.2300</td>\n",
       "      <td>0.0487</td>\n",
       "      <td>5</td>\n",
       "      <td>-27.675</td>\n",
       "      <td>1</td>\n",
       "      <td>0.0412</td>\n",
       "      <td>0.986</td>\n",
       "      <td>0.945</td>\n",
       "      <td>0.0679</td>\n",
       "      <td>0.1010</td>\n",
       "      <td>134.839</td>\n",
       "      <td>audio_features</td>\n",
       "      <td>0H2VhGUC3P3hvwz8rdGIpC</td>\n",
       "      <td>spotify:track:0H2VhGUC3P3hvwz8rdGIpC</td>\n",
       "      <td>https://api.spotify.com/v1/tracks/0H2VhGUC3P3h...</td>\n",
       "      <td>https://api.spotify.com/v1/audio-analysis/0H2V...</td>\n",
       "      <td>203656</td>\n",
       "      <td>5</td>\n",
       "    </tr>\n",
       "    <tr>\n",
       "      <th>4</th>\n",
       "      <td>0.2050</td>\n",
       "      <td>0.0525</td>\n",
       "      <td>1</td>\n",
       "      <td>-23.841</td>\n",
       "      <td>1</td>\n",
       "      <td>0.0327</td>\n",
       "      <td>0.980</td>\n",
       "      <td>0.906</td>\n",
       "      <td>0.1030</td>\n",
       "      <td>0.0511</td>\n",
       "      <td>88.316</td>\n",
       "      <td>audio_features</td>\n",
       "      <td>419qlOGNXoyICx4jO0hqaj</td>\n",
       "      <td>spotify:track:419qlOGNXoyICx4jO0hqaj</td>\n",
       "      <td>https://api.spotify.com/v1/tracks/419qlOGNXoyI...</td>\n",
       "      <td>https://api.spotify.com/v1/audio-analysis/419q...</td>\n",
       "      <td>174653</td>\n",
       "      <td>4</td>\n",
       "    </tr>\n",
       "  </tbody>\n",
       "</table>\n",
       "</div>"
      ],
      "text/plain": [
       "   danceability  energy  key  loudness  mode  speechiness  acousticness  \\\n",
       "0        0.2210  0.1260    0   -25.427     1       0.0447         0.989   \n",
       "1        0.0811  0.0122    4   -32.654     0       0.0511         0.902   \n",
       "2        0.2040  0.0331    2   -24.044     0       0.0487         0.927   \n",
       "3        0.2300  0.0487    5   -27.675     1       0.0412         0.986   \n",
       "4        0.2050  0.0525    1   -23.841     1       0.0327         0.980   \n",
       "\n",
       "   instrumentalness  liveness  valence    tempo            type  \\\n",
       "0             0.897    0.1020   0.2160  133.630  audio_features   \n",
       "1             0.308    0.0648   0.0384   74.554  audio_features   \n",
       "2             0.825    0.0954   0.0547  116.200  audio_features   \n",
       "3             0.945    0.0679   0.1010  134.839  audio_features   \n",
       "4             0.906    0.1030   0.0511   88.316  audio_features   \n",
       "\n",
       "                       id                                   uri  \\\n",
       "0  4SFBV7SRNG2e2kyL1F6kjU  spotify:track:4SFBV7SRNG2e2kyL1F6kjU   \n",
       "1  2kAgCRZPG3YQR2VMqRvLmb  spotify:track:2kAgCRZPG3YQR2VMqRvLmb   \n",
       "2  1upQiytDIEZfl9ItruoXuC  spotify:track:1upQiytDIEZfl9ItruoXuC   \n",
       "3  0H2VhGUC3P3hvwz8rdGIpC  spotify:track:0H2VhGUC3P3hvwz8rdGIpC   \n",
       "4  419qlOGNXoyICx4jO0hqaj  spotify:track:419qlOGNXoyICx4jO0hqaj   \n",
       "\n",
       "                                          track_href  \\\n",
       "0  https://api.spotify.com/v1/tracks/4SFBV7SRNG2e...   \n",
       "1  https://api.spotify.com/v1/tracks/2kAgCRZPG3YQ...   \n",
       "2  https://api.spotify.com/v1/tracks/1upQiytDIEZf...   \n",
       "3  https://api.spotify.com/v1/tracks/0H2VhGUC3P3h...   \n",
       "4  https://api.spotify.com/v1/tracks/419qlOGNXoyI...   \n",
       "\n",
       "                                        analysis_url  duration_ms  \\\n",
       "0  https://api.spotify.com/v1/audio-analysis/4SFB...       139307   \n",
       "1  https://api.spotify.com/v1/audio-analysis/2kAg...       935360   \n",
       "2  https://api.spotify.com/v1/audio-analysis/1upQ...       207267   \n",
       "3  https://api.spotify.com/v1/audio-analysis/0H2V...       203656   \n",
       "4  https://api.spotify.com/v1/audio-analysis/419q...       174653   \n",
       "\n",
       "   time_signature  \n",
       "0               4  \n",
       "1               4  \n",
       "2               3  \n",
       "3               5  \n",
       "4               4  "
      ]
     },
     "execution_count": 9,
     "metadata": {},
     "output_type": "execute_result"
    }
   ],
   "source": [
    "# how to retrieve genre high level analysis dataframe\n",
    "classical_df = call_spotify_return_feat_df(genre_dict.get('classical playlist'))\n",
    "classical_df.head()"
   ]
  },
  {
   "cell_type": "code",
   "execution_count": null,
   "metadata": {},
   "outputs": [],
   "source": []
  },
  {
   "cell_type": "code",
   "execution_count": null,
   "metadata": {},
   "outputs": [],
   "source": []
  }
 ],
 "metadata": {
  "kernelspec": {
   "display_name": "Python 3",
   "language": "python",
   "name": "python3"
  },
  "language_info": {
   "codemirror_mode": {
    "name": "ipython",
    "version": 3
   },
   "file_extension": ".py",
   "mimetype": "text/x-python",
   "name": "python",
   "nbconvert_exporter": "python",
   "pygments_lexer": "ipython3",
   "version": "3.7.3"
  }
 },
 "nbformat": 4,
 "nbformat_minor": 2
}
