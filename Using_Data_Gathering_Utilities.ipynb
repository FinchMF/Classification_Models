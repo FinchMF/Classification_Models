{
 "cells": [
  {
   "cell_type": "markdown",
   "metadata": {},
   "source": [
    "## Using Data_Gathering_Function Module\n",
    "- This notebook generates dataframes for modeling per playlist.\n",
    "- All you need to do is change the name of the playlist and run all the cells"
   ]
  },
  {
   "cell_type": "code",
   "execution_count": null,
   "metadata": {},
   "outputs": [],
   "source": [
    "# import the data_gathering_function module to have access to all cleaning and gathering materials\n",
    "from data_gathering_function import *"
   ]
  },
  {
   "cell_type": "code",
   "execution_count": null,
   "metadata": {},
   "outputs": [],
   "source": [
    "# spotify's api access token needs to be refreshed every hour. \n",
    "# by executing this cell, the access token is refreshed\n",
    "# get_tokens()"
   ]
  },
  {
   "cell_type": "code",
   "execution_count": null,
   "metadata": {},
   "outputs": [],
   "source": [
    "# dictionary of genre and respective playlist ID\n",
    "genre_dict"
   ]
  },
  {
   "cell_type": "code",
   "execution_count": null,
   "metadata": {},
   "outputs": [],
   "source": [
    "# change name of playlist from genre_dict\n",
    "name = 'hip hop'\n",
    "\n",
    "play_list = genre_dict.get(name + ' playlist')\n",
    "print(play_list)"
   ]
  },
  {
   "cell_type": "code",
   "execution_count": null,
   "metadata": {},
   "outputs": [],
   "source": [
    "# how to retrieve genre high level analysis dataframe\n",
    "df = call_spotify_return_feat_df(play_list)\n",
    "df.head()"
   ]
  },
  {
   "cell_type": "markdown",
   "metadata": {},
   "source": [
    "## Engineered Features"
   ]
  },
  {
   "cell_type": "code",
   "execution_count": null,
   "metadata": {},
   "outputs": [],
   "source": [
    "# how to retrieve engineered feature dataframe part 1\n",
    "pl_keys_df = pd.DataFrame(get_all_keys(play_list))\n",
    "pl_keys_df = pl_keys_df.rename(columns={0: 'Track Keys'})\n",
    "pl_key_modes_df = pd.DataFrame(get_all_key_modes(play_list))\n",
    "pl_key_modes_df = pl_key_modes_df.rename(columns={0: 'Track Modes'})\n",
    "global_df = pd.concat([pl_key_modes_df, pl_keys_df], axis = 1)\n",
    "\n",
    "sections_df = pd.DataFrame(fetch_sections_info(play_list))\n",
    "sections_df = classical_sections_df.rename(columns={0: 'Harmonic Progression', \n",
    "                                                    1: 'Modal Progression',\n",
    "                                                    2: 'Tempo Progression'})\n",
    "\n",
    "global_and_section_info_df = pd.concat([global_df, sections_df], axis = 1)\n",
    "global_and_section_info_df.head()"
   ]
  },
  {
   "cell_type": "code",
   "execution_count": null,
   "metadata": {},
   "outputs": [],
   "source": [
    "# cleaning\n",
    "global_and_section_info_df['Harmonic Progression'] = global_and_section_info_df['Harmonic Progression'].apply(lambda x: list(x))\n",
    "global_and_section_info_df['Modal Progression'] = global_and_section_info_df['Modal Progression'].apply(lambda x: l_to_s(x))\n",
    "global_and_section_info_df['Tempo Progression'] = global_and_section_info_df['Tempo Progression'].apply(lambda x: l_to_int(x))"
   ]
  },
  {
   "cell_type": "code",
   "execution_count": null,
   "metadata": {},
   "outputs": [],
   "source": [
    "# read harmonic_function.py to see how Harmonic Progression is sorted\n",
    "from harmonic_function import *"
   ]
  },
  {
   "cell_type": "code",
   "execution_count": null,
   "metadata": {},
   "outputs": [],
   "source": [
    "prog = get_progression_m(global_and_section_info_df['Track Modes'][0], \n",
    "                         global_and_section_info_df['Track Keys'][0], \n",
    "                         global_and_section_info_df['Harmonic Progression'][0])\n",
    "prog"
   ]
  },
  {
   "cell_type": "code",
   "execution_count": null,
   "metadata": {},
   "outputs": [],
   "source": [
    "global_and_section_info_df['Analysis'] = retrieve_roman_numeral_analysis(global_and_section_info_df)\n",
    "global_and_section_info_df['Track Title'] = fetch_track_names(play_list)"
   ]
  },
  {
   "cell_type": "code",
   "execution_count": null,
   "metadata": {},
   "outputs": [],
   "source": [
    "global_and_section_info_df.head()"
   ]
  },
  {
   "cell_type": "code",
   "execution_count": null,
   "metadata": {},
   "outputs": [],
   "source": [
    "# making a list of all roman numeral analysis\n",
    "list_of_analysis = retrieve_roman_numeral_analysis(global_and_section_info_df)\n",
    "list_of_analysis"
   ]
  },
  {
   "cell_type": "code",
   "execution_count": null,
   "metadata": {},
   "outputs": [],
   "source": [
    "# example of convereted list of analysis\n",
    "converted = get_numeric_conversion(list_of_analysis)\n",
    "# first list is cleaned roman numeral analysis\n",
    "converted[0]"
   ]
  },
  {
   "cell_type": "code",
   "execution_count": null,
   "metadata": {},
   "outputs": [],
   "source": [
    "# second list is numeric conversion of roman numeral analysis\n",
    "converted[1]"
   ]
  },
  {
   "cell_type": "code",
   "execution_count": null,
   "metadata": {},
   "outputs": [],
   "source": [
    "# example of how each converted list cen be used with get_harmonic_signature\n",
    "get_harmonic_signature(converted[0][0])"
   ]
  },
  {
   "cell_type": "code",
   "execution_count": null,
   "metadata": {},
   "outputs": [],
   "source": [
    "get_harmonic_signature(converted[1][0])\n",
    "\n",
    "# 0 = minor chords\n",
    "# 1 = major chords\n",
    "# b = flat chords\n",
    "# # = sharp chords\n",
    "\n",
    "# for this example, \n",
    "# it explains in a fundamental sense, the peice stays in a major functional harmony"
   ]
  },
  {
   "cell_type": "code",
   "execution_count": null,
   "metadata": {},
   "outputs": [],
   "source": [
    "# example of encoded shape and color full function\n",
    "shape_and_color_df = encode_shape_and_color(converted)"
   ]
  },
  {
   "cell_type": "code",
   "execution_count": null,
   "metadata": {},
   "outputs": [],
   "source": [
    "shape_and_color_df.head()"
   ]
  },
  {
   "cell_type": "code",
   "execution_count": null,
   "metadata": {},
   "outputs": [],
   "source": [
    "# combining all engineered features\n",
    "en_feat_df = pd.concat([global_and_section_info_df,\n",
    "                        shape_and_color_df],\n",
    "                        axis = 1)"
   ]
  },
  {
   "cell_type": "code",
   "execution_count": null,
   "metadata": {},
   "outputs": [],
   "source": [
    "# combining engineered features with spotify high level analysis\n",
    "full_df = pd.concat([en_feat_df,\n",
    "                     df],\n",
    "                     axis = 1)"
   ]
  },
  {
   "cell_type": "code",
   "execution_count": null,
   "metadata": {},
   "outputs": [],
   "source": [
    "# now we need to further clean the dataframe to look at necessary information for modeling\n",
    "cleaned_df = full_df.drop(['analysis_url', \n",
    "                           'track_href', \n",
    "                           'type', \n",
    "                           'uri', \n",
    "                           'id', \n",
    "                           'Tempo Progression', \n",
    "                           'Modal Progression',\n",
    "                           'Track Modes',\n",
    "                           'tempo',\n",
    "                           'duration_ms',\n",
    "                           'Harmonic Progression',\n",
    "                           'Analysis',\n",
    "                           'Track Title'], \n",
    "                           axis=1)"
   ]
  },
  {
   "cell_type": "code",
   "execution_count": null,
   "metadata": {},
   "outputs": [],
   "source": [
    "encoded_keys = pd.get_dummies(cleaned_df['Track Keys'])\n",
    "cleaned_df = pd.concat([cleaned_df,\n",
    "                        encoded_keys],\n",
    "                        axis = 1)\n",
    "cleaned_df = cleaned_df.drop(['Track Keys'], axis = 1)"
   ]
  },
  {
   "cell_type": "code",
   "execution_count": null,
   "metadata": {},
   "outputs": [],
   "source": [
    "encoded_time = pd.get_dummies(cleaned_df['time_signature'])\n",
    "cleaned_df = pd.concat([cleaned_df,\n",
    "                        encoded_time],\n",
    "                        axis = 1)\n",
    "cleaned_df = cleaned_df.drop(['time_signature'], axis = 1)"
   ]
  },
  {
   "cell_type": "code",
   "execution_count": null,
   "metadata": {},
   "outputs": [],
   "source": [
    "cleaned_df['Genre'] = name"
   ]
  },
  {
   "cell_type": "code",
   "execution_count": null,
   "metadata": {},
   "outputs": [],
   "source": [
    "# dataframe of all engineered features and apotify's high level anaylsis \n",
    "cleaned_df.columns"
   ]
  },
  {
   "cell_type": "code",
   "execution_count": null,
   "metadata": {},
   "outputs": [],
   "source": [
    "cleaned_df.to_csv('./genre_csv/' + name + '_CSV', index=False)"
   ]
  },
  {
   "cell_type": "code",
   "execution_count": null,
   "metadata": {},
   "outputs": [],
   "source": [
    "pd.read_csv('./genre_csv/' + name + '_CSV')"
   ]
  },
  {
   "cell_type": "code",
   "execution_count": null,
   "metadata": {},
   "outputs": [],
   "source": []
  }
 ],
 "metadata": {
  "kernelspec": {
   "display_name": "Python 3",
   "language": "python",
   "name": "python3"
  },
  "language_info": {
   "codemirror_mode": {
    "name": "ipython",
    "version": 3
   },
   "file_extension": ".py",
   "mimetype": "text/x-python",
   "name": "python",
   "nbconvert_exporter": "python",
   "pygments_lexer": "ipython3",
   "version": "3.7.3"
  }
 },
 "nbformat": 4,
 "nbformat_minor": 2
}
